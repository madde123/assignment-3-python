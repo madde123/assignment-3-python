{
 "cells": [
  {
   "cell_type": "code",
   "execution_count": 7,
   "id": "8832e429",
   "metadata": {},
   "outputs": [
    {
     "name": "stdout",
     "output_type": "stream",
     "text": [
      "\tTwinkle, twinkle, little star,\n",
      "\t\tHow I wonder what you are!\n",
      "\t\t\tUp above the world so high,\n",
      "\t\t\tLike a diamond in the sky.\n",
      "\tTwinkle, twinkle, little star,\n",
      "\t\tHow I wonder what you are\n"
     ]
    }
   ],
   "source": [
    "#1\n",
    "\"\"\"Write a Python program to print the following string in a specific format (see the\n",
    "output). \n",
    "          Twinkle, twinkle, little star,\n",
    "\n",
    "                   How I wonder what you are!\n",
    "\n",
    "                          Up above the world so high,\n",
    "                          Like a diamond in the sky.\n",
    "\n",
    "          Twinkle, twinkle, little star,\n",
    "\n",
    "                   How I wonder what you are\"\"\"\n",
    "\n",
    "print(\"\\tTwinkle, twinkle, little star,\")\n",
    "print(\"\\t\\tHow I wonder what you are!\")\n",
    "print(\"\\t\\t\\tUp above the world so high,\")\n",
    "print(\"\\t\\t\\tLike a diamond in the sky.\")\n",
    "print(\"\\tTwinkle, twinkle, little star,\")\n",
    "print(\"\\t\\tHow I wonder what you are\")"
   ]
  },
  {
   "cell_type": "code",
   "execution_count": 1,
   "id": "7ace73c6",
   "metadata": {},
   "outputs": [
    {
     "name": "stdout",
     "output_type": "stream",
     "text": [
      "3.8.8\n"
     ]
    }
   ],
   "source": [
    "#2\n",
    "\"\"\"Write a Python program to get the Python version you are using \"\"\"\n",
    "from platform import python_version\n",
    "print(python_version())"
   ]
  },
  {
   "cell_type": "code",
   "execution_count": 16,
   "id": "d9701dfc",
   "metadata": {},
   "outputs": [
    {
     "name": "stdout",
     "output_type": "stream",
     "text": [
      "24-10-21 03:12:22\n"
     ]
    }
   ],
   "source": [
    "#3\n",
    "\"\"\"Write a Python program to display the current date and time\"\"\"\n",
    "from datetime import datetime\n",
    "now=datetime.now()\n",
    "print(now.strftime(\"%d-%m-%y %H:%M:%S\"))"
   ]
  },
  {
   "cell_type": "code",
   "execution_count": 4,
   "id": "9c04dece",
   "metadata": {},
   "outputs": [
    {
     "name": "stdout",
     "output_type": "stream",
     "text": [
      "Enter the radius of a circle:2\n",
      "Area of a circle =  12.56\n"
     ]
    }
   ],
   "source": [
    "#4\n",
    "\"\"\"Write a Python program which accepts the radius of a circle from the user and compute\n",
    "the area.\"\"\"\n",
    "\n",
    "radius=int(input(\"Enter the radius of a circle:\"))\n",
    "area=3.14*radius**2\n",
    "\n",
    "print(\"Area of a circle = \", area)\n"
   ]
  },
  {
   "cell_type": "code",
   "execution_count": 13,
   "id": "7a065222",
   "metadata": {},
   "outputs": [
    {
     "name": "stdout",
     "output_type": "stream",
     "text": [
      "Enter your first name: hammad\n",
      "Enter your last name: saeed\n",
      "saeed hammad\n"
     ]
    }
   ],
   "source": [
    "#5\n",
    "\"\"\"Write a Python program which accepts the user's first and last name and print them in\n",
    "reverse order with a space between them. \"\"\"\n",
    "\n",
    "firstname=input(\"Enter your first name: \")\n",
    "lastname=input(\"Enter your last name: \")\n",
    "\n",
    "print (lastname + \" \" +firstname)"
   ]
  },
  {
   "cell_type": "code",
   "execution_count": 15,
   "id": "b7b9e71e",
   "metadata": {},
   "outputs": [
    {
     "name": "stdout",
     "output_type": "stream",
     "text": [
      "Enter first number: 24\n",
      "Enter second number: 46\n",
      "Addition of  24  and  46  =  70\n"
     ]
    }
   ],
   "source": [
    "#6\n",
    "\"\"\"Write a python program which takes two inputs from user and print them addition\"\"\"\n",
    "\n",
    "n1=int(input(\"Enter first number: \"))\n",
    "n2=int(input(\"Enter second number: \"))\n",
    "print(\"Addition of \",n1,\" and \",n2,\" = \",n1+n2)"
   ]
  },
  {
   "cell_type": "code",
   "execution_count": 18,
   "id": "1ad130c4",
   "metadata": {},
   "outputs": [
    {
     "name": "stdout",
     "output_type": "stream",
     "text": [
      "\t\tMarksheet\n",
      "Marks in Urdu: 76\n",
      "Marks in Maths: 56\n",
      "Marks in English: 87\n",
      "Marks in Science: 67\n",
      "Marks in Computer: 67\n",
      "Total marks = 500\n",
      "Obtain marks =  353\n",
      "percentage =  70.6\n",
      "Grade = A\n"
     ]
    }
   ],
   "source": [
    "#7\n",
    "\"\"\"Write a program which takes 5 inputs from user for different subject’s marks, total it\n",
    "and generate mark sheet using grades ? \"\"\"\n",
    "\n",
    "print(\"\\t\\tMarksheet\")\n",
    "urdu=int(input(\"Marks in Urdu: \"))\n",
    "math=int(input(\"Marks in Maths: \"))\n",
    "eng=int(input(\"Marks in English: \"))\n",
    "sci=int(input(\"Marks in Science: \"))\n",
    "comp=int(input(\"Marks in Computer: \"))\n",
    "obt=urdu+math+eng+sci+comp\n",
    "print(\"Total marks = 500\")\n",
    "print(\"Obtain marks = \",obt)\n",
    "percent=obt*100/500\n",
    "print(\"percentage = \",percent)\n",
    "\n",
    "if percent<=100 and percent>80:\n",
    "    print(\"Grade = A+\")\n",
    "elif percent<=80 and percent>70:\n",
    "    print(\"Grade = A\")\n",
    "elif percent<=70 and percent>60:\n",
    "    print(\"Grade = B\")\n",
    "elif percent<=60 and percent>=50:\n",
    "    print(\"Grade = C\")\n",
    "else:\n",
    "    print(\"Grade = FAIL\")\n"
   ]
  },
  {
   "cell_type": "code",
   "execution_count": 30,
   "id": "6b373b95",
   "metadata": {},
   "outputs": [
    {
     "name": "stdout",
     "output_type": "stream",
     "text": [
      "Enter a number: 45\n",
      "45 is ODD.\n"
     ]
    }
   ],
   "source": [
    "#8\n",
    "\"\"\"Write a program which take input from user and identify that the given number is even\n",
    "or odd? \"\"\"\n",
    "\n",
    "number=int(input(\"Enter a number: \"))\n",
    "if number%2==0:\n",
    "    print(number,\"is EVEN.\")\n",
    "else:\n",
    "    print(number,\"is ODD.\")"
   ]
  },
  {
   "cell_type": "code",
   "execution_count": 38,
   "id": "d5042e09",
   "metadata": {},
   "outputs": [
    {
     "name": "stdout",
     "output_type": "stream",
     "text": [
      "length of a list =  10\n"
     ]
    }
   ],
   "source": [
    "#9\n",
    "\"\"\"Write a program which print the length of the list?\"\"\"\n",
    "list1 = {12,34,23,5,76,65,54,32,19,100}\n",
    "print(\"length of a list = \",len(list1))"
   ]
  },
  {
   "cell_type": "code",
   "execution_count": 49,
   "id": "67cf790b",
   "metadata": {},
   "outputs": [
    {
     "name": "stdout",
     "output_type": "stream",
     "text": [
      "sum of numeric in a list is :  184\n"
     ]
    }
   ],
   "source": [
    "#10\n",
    "\"\"\"Write a Python program to sum all the numeric items in a list?\"\"\"\n",
    "\n",
    "\n",
    "list1={12,43,56,65,8}\n",
    "total=sum(list1)\n",
    "\n",
    "    \n",
    "print(\"sum of numeric in a list is : \",total)"
   ]
  },
  {
   "cell_type": "code",
   "execution_count": 53,
   "id": "862b0424",
   "metadata": {},
   "outputs": [
    {
     "name": "stdout",
     "output_type": "stream",
     "text": [
      "{34, 67, 9, 12, 54, 23, 56}\n",
      "largest number =  67\n"
     ]
    }
   ],
   "source": [
    "#11\n",
    "\"\"\"Write a Python program to get the largest number from a numeric list\"\"\"\n",
    "list1={34,56,12,23,9,67,54}\n",
    "maxnumber=max(list1)\n",
    "print(list1)\n",
    "print(\"largest number = \",maxnumber)\n",
    "    "
   ]
  },
  {
   "cell_type": "code",
   "execution_count": null,
   "id": "94f0dc67",
   "metadata": {},
   "outputs": [
    {
     "name": "stdout",
     "output_type": "stream",
     "text": [
      "1\n",
      "1\n",
      "2\n",
      "3\n"
     ]
    }
   ],
   "source": [
    "#12\n",
    "\"\"\"Take a list, say for example this one:\n",
    "\n",
    "a = [1, 1, 2, 3, 5, 8, 13, 21, 34, 55, 89]\n",
    " Write a program that prints out all the elements of the list that are less than 5. \"\"\"\n",
    "i=0\n",
    "a = [1,1,2,3,5,8,13,21,34,55,89]\n",
    "\n",
    "while(i<len(a)):\n",
    "    if a[i]<5:\n",
    "        print(a[i])\n",
    "        i+=1\n",
    "\n"
   ]
  },
  {
   "cell_type": "code",
   "execution_count": null,
   "id": "55b929e7",
   "metadata": {},
   "outputs": [],
   "source": []
  }
 ],
 "metadata": {
  "kernelspec": {
   "display_name": "Python 3",
   "language": "python",
   "name": "python3"
  },
  "language_info": {
   "codemirror_mode": {
    "name": "ipython",
    "version": 3
   },
   "file_extension": ".py",
   "mimetype": "text/x-python",
   "name": "python",
   "nbconvert_exporter": "python",
   "pygments_lexer": "ipython3",
   "version": "3.8.8"
  }
 },
 "nbformat": 4,
 "nbformat_minor": 5
}
